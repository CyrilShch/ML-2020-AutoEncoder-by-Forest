{
  "nbformat": 4,
  "nbformat_minor": 0,
  "metadata": {
    "colab": {
      "name": "MNIST_MLP.ipynb",
      "provenance": [],
      "collapsed_sections": []
    },
    "kernelspec": {
      "name": "python3",
      "display_name": "Python 3"
    },
    "accelerator": "GPU"
  },
  "cells": [
    {
      "cell_type": "code",
      "metadata": {
        "id": "VqS-R5fc2LmW",
        "colab_type": "code",
        "colab": {}
      },
      "source": [
        "%matplotlib inline\n",
        "import numpy as np\n",
        "import pandas as pd\n",
        "import torch.nn.functional as F\n",
        "import matplotlib.pyplot as plt\n",
        "import torch\n",
        "from sklearn.metrics import confusion_matrix, mean_squared_error\n",
        "import torchvision.datasets as datasets\n",
        "import torchvision.transforms as transforms\n",
        "import torch.nn as nn\n",
        "from sklearn.model_selection import train_test_split\n",
        "import time\n",
        "import torch.utils.data as torch_data"
      ],
      "execution_count": 0,
      "outputs": []
    },
    {
      "cell_type": "markdown",
      "metadata": {
        "id": "6taaEPmv24-D",
        "colab_type": "text"
      },
      "source": [
        "## 1. Reconstruction of MNIST with MLP-based autoencoder"
      ]
    },
    {
      "cell_type": "code",
      "metadata": {
        "id": "PtODgEsNpkao",
        "colab_type": "code",
        "outputId": "f441ce8d-007d-47fd-8cb7-c3c4a97f2046",
        "colab": {
          "base_uri": "https://localhost:8080/",
          "height": 51
        }
      },
      "source": [
        "from keras.datasets import mnist\n",
        "\n",
        "(x_train, y_train), (x_test, y_test) = mnist.load_data()\n",
        "img_rows, img_cols = 28, 28\n",
        "x_train = x_train.reshape(x_train.shape[0], img_rows*img_cols)\n",
        "x_test = x_test.reshape(x_test.shape[0], img_rows*img_cols)\n",
        "\n",
        "#Get only first 1000 pictures for test\n",
        "x_test=x_test[:1000]\n",
        "y_test=y_test[:1000]\n",
        "\n",
        "x_train = x_train.astype('float32')\n",
        "x_test = x_test.astype('float32')\n",
        "print(\"[mnist] x_train.shape={}, y_train.shape={}\".format(x_train.shape, y_train.shape))\n",
        "print(\"[mnist] x_test.shape={}, y_test.shape={}\".format(x_test.shape, y_test.shape))\n",
        "\n",
        "transform = transforms.Compose([transforms.ToTensor()])\n",
        "\n",
        "train_loader = torch.utils.data.DataLoader(x_train, batch_size=500,\n",
        "                                          shuffle=True, num_workers=2)\n",
        "\n",
        "test_loader = torch.utils.data.DataLoader(x_test, batch_size=50,\n",
        "                                         shuffle=False, num_workers=2)"
      ],
      "execution_count": 14,
      "outputs": [
        {
          "output_type": "stream",
          "text": [
            "[mnist] x_train.shape=(60000, 784), y_train.shape=(60000,)\n",
            "[mnist] x_test.shape=(1000, 784), y_test.shape=(1000,)\n"
          ],
          "name": "stdout"
        }
      ]
    },
    {
      "cell_type": "markdown",
      "metadata": {
        "id": "6-MMTBGioT5O",
        "colab_type": "text"
      },
      "source": [
        "### 1.1 MLP-1"
      ]
    },
    {
      "cell_type": "code",
      "metadata": {
        "id": "h4ICLv1u7Zjz",
        "colab_type": "code",
        "colab": {}
      },
      "source": [
        "class AE(nn.Module):\n",
        "    def __init__(self, encoder, decoder):\n",
        "        super(AE, self).__init__()\n",
        "        self.encoder = encoder\n",
        "        self.decoder = decoder\n",
        "    \n",
        "    def forward(self, x):\n",
        "        x=x.reshape(x.shape[0],-1)\n",
        "        return self.decoder(self.encoder(x))\n"
      ],
      "execution_count": 0,
      "outputs": []
    },
    {
      "cell_type": "code",
      "metadata": {
        "id": "uJ8ABxzF7Zka",
        "colab_type": "code",
        "colab": {}
      },
      "source": [
        "encoder = lambda hid: nn.Sequential(\n",
        "                        torch.nn.Linear(784,1024, bias=True),\n",
        "                        torch.nn.BatchNorm1d(1024),\n",
        "                        torch.nn.ReLU(),\n",
        "                        torch.nn.Dropout(p=0.25),\n",
        "                       \n",
        "\n",
        "                        torch.nn.Linear(1024, hid,bias=True),\n",
        "                        ) \n",
        "\n",
        "decoder =  lambda hid: nn.Sequential( \n",
        "                        torch.nn.Linear(hid, 1024, bias=True),\n",
        "                        torch.nn.BatchNorm1d(1024),\n",
        "                        torch.nn.ReLU(),\n",
        "                        torch.nn.Dropout(p=0.25),\n",
        "                       \n",
        "\n",
        "                        torch.nn.Linear(1024, 784, bias=True),\n",
        "                        torch.nn.BatchNorm1d(784),\n",
        "                        torch.nn.ReLU(),\n",
        "                        ) "
      ],
      "execution_count": 0,
      "outputs": []
    },
    {
      "cell_type": "code",
      "metadata": {
        "id": "AhFU7yhQ7Zj8",
        "colab_type": "code",
        "colab": {}
      },
      "source": [
        "device = 'cuda:0'\n",
        "\n",
        "net = AE(encoder(500), decoder(500))  \n",
        "criterion = nn.MSELoss()\n",
        "optimizer = torch.optim.Adam(net.parameters(), lr=1e-3)"
      ],
      "execution_count": 0,
      "outputs": []
    },
    {
      "cell_type": "code",
      "metadata": {
        "id": "6ARuu3sZ7ZkB",
        "colab_type": "code",
        "colab": {}
      },
      "source": [
        "def train(epochs, net, criterion, optimizer, train_loader, val_loader,scheduler=None, verbose=True, save_dir=None):\n",
        "    start = time.time()\n",
        "    net.to(device)\n",
        "    for epoch in range(1, epochs+1):\n",
        "        net.train()\n",
        "        for X  in train_loader:\n",
        "            # Perform one step of minibatch stochastic gradient descent \n",
        "          \n",
        "          X=X.to(device)\n",
        "        \n",
        "          out=net(X)\n",
        "          loss=criterion(out,X)\n",
        "\n",
        "          optimizer.zero_grad()\n",
        "\n",
        "          loss.backward()\n",
        "          optimizer.step()\n",
        "        \n",
        "        # define NN evaluation, i.e. turn off dropouts, batchnorms, etc.\n",
        "    \n",
        "        net.eval()\n",
        "        for X in val_loader:\n",
        "            # Compute the validation loss\n",
        "             \n",
        "            X=X.to(device)\n",
        "            out=net(X)\n",
        "            val_loss=criterion(out,X)\n",
        "         \n",
        "        if scheduler is not None:\n",
        "            scheduler.step()\n",
        "        freq = max(epochs//20,1)\n",
        "        if verbose and epoch%freq==0:\n",
        "            print('Epoch {}/{} || Loss:  Train {:.4f} | Validation {:.4f}'.format(epoch, epochs, loss.item(), val_loss.item()))\n",
        "    end= time.time()\n",
        "    print(\"construction completed in \"+str(end-start)+'s')\n"
      ],
      "execution_count": 0,
      "outputs": []
    },
    {
      "cell_type": "code",
      "metadata": {
        "id": "8e71IznjE-Gk",
        "colab_type": "code",
        "outputId": "bb5dd27e-27dd-4147-917c-09554e948c8f",
        "colab": {
          "base_uri": "https://localhost:8080/",
          "height": 374
        }
      },
      "source": [
        "epochs = 1000\n",
        "train(epochs, net, criterion, optimizer, train_loader, test_loader, scheduler=None)"
      ],
      "execution_count": 19,
      "outputs": [
        {
          "output_type": "stream",
          "text": [
            "Epoch 50/1000 || Loss:  Train 6366.8628 | Validation 5772.5972\n",
            "Epoch 100/1000 || Loss:  Train 5539.7612 | Validation 5061.0610\n",
            "Epoch 150/1000 || Loss:  Train 4852.4736 | Validation 4397.3823\n",
            "Epoch 200/1000 || Loss:  Train 4214.6733 | Validation 3817.4009\n",
            "Epoch 250/1000 || Loss:  Train 3508.3542 | Validation 3263.2881\n",
            "Epoch 300/1000 || Loss:  Train 3000.0315 | Validation 2767.7749\n",
            "Epoch 350/1000 || Loss:  Train 2512.1885 | Validation 2339.1348\n",
            "Epoch 400/1000 || Loss:  Train 2124.1599 | Validation 1935.3882\n",
            "Epoch 450/1000 || Loss:  Train 1737.1848 | Validation 1595.3475\n",
            "Epoch 500/1000 || Loss:  Train 1377.3967 | Validation 1303.2766\n",
            "Epoch 550/1000 || Loss:  Train 1210.3452 | Validation 1035.6305\n",
            "Epoch 600/1000 || Loss:  Train 962.2159 | Validation 804.5050\n",
            "Epoch 650/1000 || Loss:  Train 777.8326 | Validation 633.1445\n",
            "Epoch 700/1000 || Loss:  Train 662.7560 | Validation 486.7805\n",
            "Epoch 750/1000 || Loss:  Train 513.0101 | Validation 362.0652\n",
            "Epoch 800/1000 || Loss:  Train 444.9934 | Validation 268.3600\n",
            "Epoch 850/1000 || Loss:  Train 419.2206 | Validation 206.2361\n",
            "Epoch 900/1000 || Loss:  Train 360.9752 | Validation 170.2256\n",
            "Epoch 950/1000 || Loss:  Train 347.2960 | Validation 148.3860\n",
            "Epoch 1000/1000 || Loss:  Train 340.2010 | Validation 135.2633\n",
            "construction completed in1018.1857225894928s\n"
          ],
          "name": "stdout"
        }
      ]
    },
    {
      "cell_type": "code",
      "metadata": {
        "id": "B1fzjEbxLde2",
        "colab_type": "code",
        "outputId": "6fb06c33-a0c3-4498-8d8b-10d619f72564",
        "colab": {
          "base_uri": "https://localhost:8080/",
          "height": 291
        }
      },
      "source": [
        "\n",
        "net.eval()\n",
        "test_loader = torch.utils.data.DataLoader(x_test, batch_size=1,\n",
        "                                         shuffle=False, num_workers=2)\n",
        "batch_count=0\n",
        "reconstruction_time=[]\n",
        "for X in test_loader:\n",
        "    start=time.time()\n",
        "    X=X.to(device)\n",
        "    reconstructions_batch=net(X)\n",
        "    end=time.time()\n",
        "    reconstruction_time.append(end-start)\n",
        "    if batch_count == 0:\n",
        "      rec = reconstructions_batch\n",
        "    else:\n",
        "      rec = torch.cat((rec, reconstructions_batch), dim=0)\n",
        "    batch_count += 1\n",
        "rec = rec.cpu().detach().numpy()\n",
        "\n",
        "mean=np.mean(np.array(reconstruction_time))\n",
        "print(\"decode one sample in \"+str(mean)+'s')\n",
        "\n",
        "fig, ax = plt.subplots(ncols=10, nrows=2, figsize=(20, 5))\n",
        "\n",
        "test_loader = torch.utils.data.DataLoader(x_test, batch_size=50,\n",
        "                                         shuffle=False, num_workers=2)\n",
        "\n",
        "for X_test in test_loader:\n",
        "  for i in range(10):\n",
        "      im = X_test[i,:].numpy()\n",
        "      ax[0, i].imshow(im.reshape(28,28));\n",
        "      ax[1, i].imshow(rec[i].reshape(28,28))\n",
        "      ax[0, i].axis('off')\n",
        "      ax[1, i].axis('off')\n",
        "  break"
      ],
      "execution_count": 22,
      "outputs": [
        {
          "output_type": "stream",
          "text": [
            "decode one sample in 0.0010091104507446288s\n"
          ],
          "name": "stdout"
        },
        {
          "output_type": "display_data",
          "data": {
            "image/png": "[encoded data removed]",
            "text/plain": [
              "<Figure size 1440x360 with 20 Axes>"
            ]
          },
          "metadata": {
            "tags": []
          }
        }
      ]
    },
    {
      "cell_type": "markdown",
      "metadata": {
        "id": "pbnON4jGobn6",
        "colab_type": "text"
      },
      "source": [
        "### 1.2 MLP-2"
      ]
    },
    {
      "cell_type": "code",
      "metadata": {
        "colab_type": "code",
        "id": "oQpz2EoFYPnD",
        "colab": {}
      },
      "source": [
        "encoder = lambda hid: nn.Sequential(\n",
        "                        torch.nn.Linear(784,2048, bias=True),\n",
        "                        torch.nn.BatchNorm1d(2048),\n",
        "                        torch.nn.ReLU(),\n",
        "                       \n",
        "\n",
        "                        torch.nn.Linear(2048, hid,bias=True),\n",
        "                        ) \n",
        "\n",
        "decoder =  lambda hid: nn.Sequential( \n",
        "                        torch.nn.Linear(hid, 2048, bias=True),\n",
        "                        torch.nn.BatchNorm1d(2048),\n",
        "                        torch.nn.ReLU(),\n",
        "                       \n",
        "\n",
        "                        torch.nn.Linear(2048, 784, bias=True),\n",
        "                        torch.nn.BatchNorm1d(784),\n",
        "                        torch.nn.ReLU(),\n",
        "                        ) "
      ],
      "execution_count": 0,
      "outputs": []
    },
    {
      "cell_type": "code",
      "metadata": {
        "colab_type": "code",
        "id": "mzsAnMuzYTVf",
        "colab": {}
      },
      "source": [
        "device = 'cuda:0'\n",
        "\n",
        "net = AE(encoder(1000), decoder(1000))  \n",
        "criterion = nn.MSELoss()\n",
        "optimizer = torch.optim.Adam(net.parameters(), lr=1e-3)\n"
      ],
      "execution_count": 0,
      "outputs": []
    },
    {
      "cell_type": "code",
      "metadata": {
        "colab_type": "code",
        "outputId": "554b8d53-2be5-4ffb-a086-4e8f20cfb240",
        "id": "DSTxene9YYPb",
        "colab": {
          "base_uri": "https://localhost:8080/",
          "height": 51
        }
      },
      "source": [
        "epochs = 1000\n",
        "train(epochs, net, criterion, optimizer, train_loader, test_loader, scheduler=None)"
      ],
      "execution_count": 0,
      "outputs": [
        {
          "output_type": "stream",
          "text": [
            "Epoch 50/1000 || Loss:  Train 6374.8267 | Validation 5731.6572\n",
            "Epoch 100/1000 || Loss:  Train 5317.6318 | Validation 4981.0796\n"
          ],
          "name": "stdout"
        }
      ]
    },
    {
      "cell_type": "code",
      "metadata": {
        "colab_type": "code",
        "id": "kEeh-HdDYfmT",
        "colab": {}
      },
      "source": [
        "\n",
        "net.eval()\n",
        "test_loader = torch.utils.data.DataLoader(x_test, batch_size=1,\n",
        "                                         shuffle=False, num_workers=2)\n",
        "batch_count=0\n",
        "reconstruction_time=[]\n",
        "for X in test_loader:\n",
        "    start=time.time()\n",
        "    X=X.to(device)\n",
        "    reconstructions_batch=net(X)\n",
        "    end=time.time()\n",
        "    reconstruction_time.append(end-start)\n",
        "    if batch_count == 0:\n",
        "      rec = reconstructions_batch\n",
        "    else:\n",
        "      rec = torch.cat((rec, reconstructions_batch), dim=0)\n",
        "    batch_count += 1\n",
        "rec = rec.cpu().detach().numpy()\n",
        "\n",
        "mean=np.mean(np.array(reconstruction_time))\n",
        "print(\"decode one sample in \"+str(mean)+'s')\n",
        "\n",
        "\n",
        "fig, ax = plt.subplots(ncols=10, nrows=2, figsize=(20, 5))\n",
        "test_loader = torch.utils.data.DataLoader(x_test, batch_size=50,\n",
        "                                         shuffle=False, num_workers=2)\n",
        "\n",
        "for X_test in test_loader:\n",
        "  for i in range(10):\n",
        "      im = X_test[i,:].numpy()\n",
        "      ax[0, i].imshow(im.reshape(28,28));\n",
        "      ax[1, i].imshow(rec[i].reshape(28,28))\n",
        "      ax[0, i].axis('off')\n",
        "      ax[1, i].axis('off')\n",
        "  break"
      ],
      "execution_count": 0,
      "outputs": []
    }
  ]
}