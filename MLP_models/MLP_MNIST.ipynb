{
  "nbformat": 4,
  "nbformat_minor": 0,
  "metadata": {
    "colab": {
      "name": "MLP_MNIST+OMNIGLOT.ipynb",
      "provenance": [],
      "collapsed_sections": []
    },
    "kernelspec": {
      "name": "python3",
      "display_name": "Python 3"
    },
    "accelerator": "GPU"
  },
  "cells": [
    {
      "cell_type": "code",
      "metadata": {
        "id": "VqS-R5fc2LmW",
        "colab_type": "code",
        "outputId": "588af060-c2ce-4e68-93c1-e7b07ff1e0fa",
        "colab": {
          "base_uri": "https://localhost:8080/",
          "height": 34
        }
      },
      "source": [
        "%matplotlib inline\n",
        "import numpy as np\n",
        "import pandas as pd\n",
        "import torch.nn.functional as F\n",
        "import matplotlib.pyplot as plt\n",
        "import torch\n",
        "from sklearn.metrics import confusion_matrix, mean_squared_error\n",
        "import torchvision.datasets as datasets\n",
        "import torchvision.transforms as transforms\n",
        "import torch.nn as nn\n",
        "from sklearn.model_selection import train_test_split\n",
        "import time\n",
        "import torch.utils.data as torch_data\n",
        "from keras.datasets import mnist"
      ],
      "execution_count": 0,
      "outputs": [
        {
          "output_type": "stream",
          "text": [
            "Using TensorFlow backend.\n"
          ],
          "name": "stderr"
        }
      ]
    },
    {
      "cell_type": "markdown",
      "metadata": {
        "id": "6taaEPmv24-D",
        "colab_type": "text"
      },
      "source": [
        "## 1. Reconstruction of MNIST with MLP-based autoencoder"
      ]
    },
    {
      "cell_type": "code",
      "metadata": {
        "id": "PtODgEsNpkao",
        "colab_type": "code",
        "outputId": "dd05b34e-6210-422a-ed9c-953699b69ff0",
        "colab": {
          "base_uri": "https://localhost:8080/",
          "height": 51
        }
      },
      "source": [
        "\n",
        "\n",
        "(x_train, y_train), (x_test, y_test) = mnist.load_data()\n",
        "img_rows, img_cols = 28, 28\n",
        "x_train = x_train.reshape(x_train.shape[0], img_rows*img_cols)\n",
        "x_test = x_test.reshape(x_test.shape[0], img_rows*img_cols)\n",
        "\n",
        "#Get only first 1000 pictures for test\n",
        "x_test=x_test[:1000]\n",
        "y_test=y_test[:1000]\n",
        "\n",
        "x_train = x_train.astype('float32')\n",
        "x_test = x_test.astype('float32')\n",
        "print(\"[mnist] x_train.shape={}, y_train.shape={}\".format(x_train.shape, y_train.shape))\n",
        "print(\"[mnist] x_test.shape={}, y_test.shape={}\".format(x_test.shape, y_test.shape))"
      ],
      "execution_count": 0,
      "outputs": [
        {
          "output_type": "stream",
          "text": [
            "[mnist] x_train.shape=(60000, 784), y_train.shape=(60000,)\n",
            "[mnist] x_test.shape=(1000, 784), y_test.shape=(1000,)\n"
          ],
          "name": "stdout"
        }
      ]
    },
    {
      "cell_type": "code",
      "metadata": {
        "id": "2f1Zc4lOnqEY",
        "colab_type": "code",
        "outputId": "4cdd147b-1d0f-47b0-c0f3-9d2c4339dd70",
        "colab": {
          "base_uri": "https://localhost:8080/",
          "height": 146
        }
      },
      "source": [
        "fig, ax = plt.subplots(ncols=10, nrows=1, figsize=(20, 2.5))\n",
        "\n",
        "for i in range(10):\n",
        "  rec = x_test[i,:]\n",
        "  ax[i].imshow(rec.reshape(28,28),cmap='gray')\n",
        "  ax[i].get_xaxis().set_ticks([])\n",
        "  ax[i].get_yaxis().set_ticks([])\n",
        "ax[0].set_ylabel(f\"$Original$\",fontsize=18)\n",
        "      "
      ],
      "execution_count": 0,
      "outputs": [
        {
          "output_type": "execute_result",
          "data": {
            "text/plain": [
              "Text(0, 0.5, '$Original$')"
            ]
          },
          "metadata": {
            "tags": []
          },
          "execution_count": 3
        },
        {
          "output_type": "display_data",
          "data": {
            "image/png": "[encoded data removed]",
            "text/plain": [
              "<Figure size 1440x180 with 10 Axes>"
            ]
          },
          "metadata": {
            "tags": []
          }
        }
      ]
    },
    {
      "cell_type": "markdown",
      "metadata": {
        "id": "6-MMTBGioT5O",
        "colab_type": "text"
      },
      "source": [
        "### 1.1 MLP-1"
      ]
    },
    {
      "cell_type": "code",
      "metadata": {
        "id": "vsQjewDlqkzU",
        "colab_type": "code",
        "colab": {}
      },
      "source": [
        "REC1=[]\n",
        "MSE1=[]"
      ],
      "execution_count": 0,
      "outputs": []
    },
    {
      "cell_type": "markdown",
      "metadata": {
        "id": "UCF7oBzxpy-H",
        "colab_type": "text"
      },
      "source": [
        "0% of dropout"
      ]
    },
    {
      "cell_type": "code",
      "metadata": {
        "colab_type": "code",
        "id": "eSR9V4YGpxKD",
        "colab": {}
      },
      "source": [
        "class AE(nn.Module):\n",
        "    def __init__(self, encoder, decoder):\n",
        "        super(AE, self).__init__()\n",
        "        self.encoder = encoder\n",
        "        self.decoder = decoder\n",
        "    \n",
        "    def forward(self, x):\n",
        "        x=x.reshape(x.shape[0],-1)\n",
        "        return self.decoder(self.encoder(x))\n",
        "\n",
        "encoder = lambda hid: nn.Sequential(\n",
        "                        torch.nn.Linear(784,1024, bias=True),\n",
        "                        torch.nn.BatchNorm1d(1024),\n",
        "                        torch.nn.ReLU(),\n",
        "                       \n",
        "\n",
        "                        torch.nn.Linear(1024, hid,bias=True),\n",
        "                        ) \n",
        "\n",
        "decoder =  lambda hid: nn.Sequential( \n",
        "                        torch.nn.Linear(hid, 1024, bias=True),\n",
        "                        torch.nn.BatchNorm1d(1024),\n",
        "                        torch.nn.ReLU(),\n",
        "                    \n",
        "                       \n",
        "\n",
        "                        torch.nn.Linear(1024, 784, bias=True),\n",
        "                        torch.nn.BatchNorm1d(784),\n",
        "                        torch.nn.ReLU(),\n",
        "                        ) \n",
        "def train(epochs, net, criterion, optimizer, train_loader, val_loader,scheduler=None, verbose=True, save_dir=None):\n",
        "    start = time.time()\n",
        "    net.to(device)\n",
        "    for epoch in range(1, epochs+1):\n",
        "        net.train()\n",
        "        for X  in train_loader:\n",
        "            # Perform one step of minibatch stochastic gradient descent \n",
        "          \n",
        "          X=X.to(device)\n",
        "        \n",
        "          out=net(X)\n",
        "          loss=criterion(out,X)\n",
        "\n",
        "          optimizer.zero_grad()\n",
        "\n",
        "          loss.backward()\n",
        "          optimizer.step()\n",
        "        \n",
        "        # define NN evaluation, i.e. turn off dropouts, batchnorms, etc.\n",
        "    \n",
        "        net.eval()\n",
        "        for X in val_loader:\n",
        "            # Compute the validation loss\n",
        "             \n",
        "            X=X.to(device)\n",
        "            out=net(X)\n",
        "            val_loss=criterion(out,X)\n",
        "         \n",
        "        if scheduler is not None:\n",
        "            scheduler.step()\n",
        "        freq = max(epochs//20,1)\n",
        "        if verbose and epoch%freq==0:\n",
        "            print('Epoch {}/{} || Loss:  Train {:.4f} | Validation {:.4f}'.format(epoch, epochs, loss.item(), val_loss.item()))\n",
        "    end= time.time()\n",
        "    print(\"construction completed in \"+str(end-start)+'s')\n"
      ],
      "execution_count": 0,
      "outputs": []
    },
    {
      "cell_type": "code",
      "metadata": {
        "colab_type": "code",
        "outputId": "32132629-6af8-4b7e-d42d-735b410fd6ca",
        "id": "AltbRh5YpxKV",
        "colab": {
          "base_uri": "https://localhost:8080/",
          "height": 374
        }
      },
      "source": [
        "device = 'cuda:0'\n",
        "train_loader = torch.utils.data.DataLoader(x_train, batch_size=500,\n",
        "                                          shuffle=True, num_workers=2)\n",
        "\n",
        "test_loader = torch.utils.data.DataLoader(x_test, batch_size=500,\n",
        "                                         shuffle=False, num_workers=2)\n",
        "\n",
        "net = AE(encoder(500), decoder(500))  \n",
        "criterion = nn.MSELoss()\n",
        "optimizer = torch.optim.Adam(net.parameters(), lr=1e-3)\n",
        "epochs = 1000\n",
        "train(epochs, net, criterion, optimizer, train_loader, test_loader, scheduler=None)"
      ],
      "execution_count": 0,
      "outputs": [
        {
          "output_type": "stream",
          "text": [
            "Epoch 50/1000 || Loss:  Train 6181.7051 | Validation 5889.9229\n",
            "Epoch 100/1000 || Loss:  Train 5381.7505 | Validation 5111.3325\n",
            "Epoch 150/1000 || Loss:  Train 4835.4893 | Validation 4414.9585\n",
            "Epoch 200/1000 || Loss:  Train 4127.6416 | Validation 3764.2039\n",
            "Epoch 250/1000 || Loss:  Train 3325.4695 | Validation 3201.6174\n",
            "Epoch 300/1000 || Loss:  Train 2763.6545 | Validation 2658.7034\n",
            "Epoch 350/1000 || Loss:  Train 2358.5718 | Validation 2199.6245\n",
            "Epoch 400/1000 || Loss:  Train 1883.6998 | Validation 1780.1038\n",
            "Epoch 450/1000 || Loss:  Train 1477.3596 | Validation 1449.3717\n",
            "Epoch 500/1000 || Loss:  Train 1187.9561 | Validation 1111.8873\n",
            "Epoch 550/1000 || Loss:  Train 863.3583 | Validation 861.1898\n",
            "Epoch 600/1000 || Loss:  Train 667.1124 | Validation 635.9154\n",
            "Epoch 650/1000 || Loss:  Train 492.4628 | Validation 457.5406\n",
            "Epoch 700/1000 || Loss:  Train 336.1102 | Validation 302.3915\n",
            "Epoch 750/1000 || Loss:  Train 215.9303 | Validation 198.4619\n",
            "Epoch 800/1000 || Loss:  Train 120.9401 | Validation 111.9952\n",
            "Epoch 850/1000 || Loss:  Train 69.7498 | Validation 58.4860\n",
            "Epoch 900/1000 || Loss:  Train 41.4314 | Validation 26.6009\n",
            "Epoch 950/1000 || Loss:  Train 22.9060 | Validation 10.2692\n",
            "Epoch 1000/1000 || Loss:  Train 14.0797 | Validation 4.8370\n",
            "construction completed in 990.697249174118s\n"
          ],
          "name": "stdout"
        }
      ]
    },
    {
      "cell_type": "code",
      "metadata": {
        "colab_type": "code",
        "outputId": "317e71b7-33cd-40ba-80fc-2aaab9eb631a",
        "id": "crLLv955pxKh",
        "colab": {
          "base_uri": "https://localhost:8080/",
          "height": 34
        }
      },
      "source": [
        "\n",
        "net.eval()\n",
        "test_loader = torch.utils.data.DataLoader(x_test, batch_size=1,\n",
        "                                         shuffle=False, num_workers=2)\n",
        "batch_count=0\n",
        "reconstruction_time=[]\n",
        "running_loss_val=0\n",
        "for X in test_loader:\n",
        "    X=X.to(device)\n",
        "    encoded=net.encoder(X)\n",
        "    start=time.time()\n",
        "    reconstructions_batch=net.decoder(encoded)\n",
        "    end=time.time()\n",
        "    reconstruction_time.append(end-start)\n",
        "    if batch_count == 0:\n",
        "      rec = reconstructions_batch\n",
        "    else:\n",
        "      rec = torch.cat((rec, reconstructions_batch), dim=0)\n",
        "    batch_count += 1\n",
        "    loss_val = criterion(reconstructions_batch, X)\n",
        "    running_loss_val += loss_val.item()\n",
        "MSE1.append(running_loss_val/batch_count)\n",
        "rec = rec.cpu().detach().numpy()\n",
        "REC1.append(rec)\n",
        "mean=np.mean(np.array(reconstruction_time))\n",
        "print(\"decode one sample in \"+str(mean)+'s')\n",
        "\n"
      ],
      "execution_count": 0,
      "outputs": [
        {
          "output_type": "stream",
          "text": [
            "decode one sample in 0.00029295086860656736s\n"
          ],
          "name": "stdout"
        }
      ]
    },
    {
      "cell_type": "markdown",
      "metadata": {
        "id": "MH1YBWqQ07Ee",
        "colab_type": "text"
      },
      "source": [
        "25% of dropout\n"
      ]
    },
    {
      "cell_type": "code",
      "metadata": {
        "id": "h4ICLv1u7Zjz",
        "colab_type": "code",
        "colab": {}
      },
      "source": [
        "class AE(nn.Module):\n",
        "    def __init__(self, encoder, decoder):\n",
        "        super(AE, self).__init__()\n",
        "        self.encoder = encoder\n",
        "        self.decoder = decoder\n",
        "    \n",
        "    def forward(self, x):\n",
        "        x=x.reshape(x.shape[0],-1)\n",
        "        return self.decoder(self.encoder(x))\n",
        "\n",
        "encoder = lambda hid: nn.Sequential(\n",
        "                        torch.nn.Linear(784,1024, bias=True),\n",
        "                        torch.nn.BatchNorm1d(1024),\n",
        "                        torch.nn.ReLU(),\n",
        "                        torch.nn.Dropout(p=0.25),\n",
        "                       \n",
        "\n",
        "                        torch.nn.Linear(1024, hid,bias=True),\n",
        "                        ) \n",
        "\n",
        "decoder =  lambda hid: nn.Sequential( \n",
        "                        torch.nn.Linear(hid, 1024, bias=True),\n",
        "                        torch.nn.BatchNorm1d(1024),\n",
        "                        torch.nn.ReLU(),\n",
        "                        torch.nn.Dropout(p=0.25),\n",
        "                       \n",
        "\n",
        "                        torch.nn.Linear(1024, 784, bias=True),\n",
        "                        torch.nn.BatchNorm1d(784),\n",
        "                        torch.nn.ReLU(),\n",
        "                        ) \n"
      ],
      "execution_count": 0,
      "outputs": []
    },
    {
      "cell_type": "code",
      "metadata": {
        "id": "AhFU7yhQ7Zj8",
        "colab_type": "code",
        "outputId": "14721646-0fa4-4e72-a605-7d575c834248",
        "colab": {
          "base_uri": "https://localhost:8080/",
          "height": 374
        }
      },
      "source": [
        "device = 'cuda:0'\n",
        "train_loader = torch.utils.data.DataLoader(x_train, batch_size=500,\n",
        "                                          shuffle=True, num_workers=2)\n",
        "\n",
        "test_loader = torch.utils.data.DataLoader(x_test, batch_size=500,\n",
        "                                         shuffle=False, num_workers=2)\n",
        "\n",
        "net = AE(encoder(500), decoder(500))  \n",
        "criterion = nn.MSELoss()\n",
        "optimizer = torch.optim.Adam(net.parameters(), lr=1e-3)\n",
        "epochs = 1000\n",
        "train(epochs, net, criterion, optimizer, train_loader, test_loader, scheduler=None)"
      ],
      "execution_count": 0,
      "outputs": [
        {
          "output_type": "stream",
          "text": [
            "Epoch 50/1000 || Loss:  Train 6386.2378 | Validation 5940.6860\n",
            "Epoch 100/1000 || Loss:  Train 5637.2373 | Validation 5191.4990\n",
            "Epoch 150/1000 || Loss:  Train 4570.2822 | Validation 4506.9619\n",
            "Epoch 200/1000 || Loss:  Train 4220.6929 | Validation 3880.1631\n",
            "Epoch 250/1000 || Loss:  Train 3490.6565 | Validation 3323.6279\n",
            "Epoch 300/1000 || Loss:  Train 2929.2144 | Validation 2813.0935\n",
            "Epoch 350/1000 || Loss:  Train 2465.1714 | Validation 2354.4116\n",
            "Epoch 400/1000 || Loss:  Train 2157.7471 | Validation 1980.7728\n",
            "Epoch 450/1000 || Loss:  Train 1749.6036 | Validation 1626.8618\n",
            "Epoch 500/1000 || Loss:  Train 1452.5343 | Validation 1300.1718\n",
            "Epoch 550/1000 || Loss:  Train 1171.3496 | Validation 1031.4392\n",
            "Epoch 600/1000 || Loss:  Train 994.8040 | Validation 815.6650\n",
            "Epoch 650/1000 || Loss:  Train 786.9169 | Validation 626.8427\n",
            "Epoch 700/1000 || Loss:  Train 629.6719 | Validation 477.3458\n",
            "Epoch 750/1000 || Loss:  Train 539.7899 | Validation 356.5628\n",
            "Epoch 800/1000 || Loss:  Train 460.7652 | Validation 269.1744\n",
            "Epoch 850/1000 || Loss:  Train 413.0238 | Validation 211.1289\n",
            "Epoch 900/1000 || Loss:  Train 374.2571 | Validation 169.1523\n",
            "Epoch 950/1000 || Loss:  Train 353.4194 | Validation 146.9448\n",
            "Epoch 1000/1000 || Loss:  Train 342.7751 | Validation 137.4655\n",
            "construction completed in 1050.2095139026642s\n"
          ],
          "name": "stdout"
        }
      ]
    },
    {
      "cell_type": "code",
      "metadata": {
        "id": "B1fzjEbxLde2",
        "colab_type": "code",
        "outputId": "71ffeb0f-966c-4545-8c17-d576c29706f7",
        "colab": {
          "base_uri": "https://localhost:8080/",
          "height": 34
        }
      },
      "source": [
        "net.eval()\n",
        "test_loader = torch.utils.data.DataLoader(x_test, batch_size=1,\n",
        "                                         shuffle=False, num_workers=2)\n",
        "batch_count=0\n",
        "reconstruction_time=[]\n",
        "running_loss_val=0\n",
        "for X in test_loader:\n",
        "    X=X.to(device)\n",
        "    encoded=net.encoder(X)\n",
        "    start=time.time()\n",
        "    reconstructions_batch=net.decoder(encoded)\n",
        "    end=time.time()\n",
        "    reconstruction_time.append(end-start)\n",
        "    if batch_count == 0:\n",
        "      rec = reconstructions_batch\n",
        "    else:\n",
        "      rec = torch.cat((rec, reconstructions_batch), dim=0)\n",
        "    batch_count += 1\n",
        "    loss_val = criterion(reconstructions_batch, X)\n",
        "    running_loss_val += loss_val.item()\n",
        "MSE1.append(running_loss_val/batch_count)\n",
        "rec = rec.cpu().detach().numpy()\n",
        "REC1.append(rec)\n",
        "mean=np.mean(np.array(reconstruction_time))\n",
        "print(\"decode one sample in \"+str(mean)+'s')"
      ],
      "execution_count": 0,
      "outputs": [
        {
          "output_type": "stream",
          "text": [
            "decode one sample in 0.00031030774116516115s\n"
          ],
          "name": "stdout"
        }
      ]
    },
    {
      "cell_type": "code",
      "metadata": {
        "id": "UQxHZUR4wZ1y",
        "colab_type": "code",
        "outputId": "ec56169f-5ab2-4b03-afaa-3b4aba893b1d",
        "colab": {
          "base_uri": "https://localhost:8080/",
          "height": 129
        }
      },
      "source": [
        "\n",
        "fig, ax = plt.subplots(ncols=10, nrows=1, figsize=(20, 2.5))\n",
        "for X_test in test_loader:\n",
        "  for i in range(10):\n",
        "      ax[i].imshow(rec[i].reshape(28,28),cmap='gray')\n",
        "      ax[i].get_xaxis().set_ticks([])\n",
        "      ax[i].get_yaxis().set_ticks([])\n",
        "  ax[0].set_ylabel(f\"$MLP_1$\",fontsize=18)\n",
        "  break"
      ],
      "execution_count": 0,
      "outputs": [
        {
          "output_type": "display_data",
          "data": {
            "image/png": "[encoded data removed]",
            "text/plain": [
              "<Figure size 1440x180 with 10 Axes>"
            ]
          },
          "metadata": {
            "tags": []
          }
        }
      ]
    },
    {
      "cell_type": "markdown",
      "metadata": {
        "id": "8ZhmH0es1DEI",
        "colab_type": "text"
      },
      "source": [
        "50% of dropout"
      ]
    },
    {
      "cell_type": "code",
      "metadata": {
        "colab_type": "code",
        "id": "ByGmSI501Fhp",
        "colab": {}
      },
      "source": [
        "class AE(nn.Module):\n",
        "    def __init__(self, encoder, decoder):\n",
        "        super(AE, self).__init__()\n",
        "        self.encoder = encoder\n",
        "        self.decoder = decoder\n",
        "    \n",
        "    def forward(self, x):\n",
        "        x=x.reshape(x.shape[0],-1)\n",
        "        return self.decoder(self.encoder(x))\n",
        "\n",
        "encoder = lambda hid: nn.Sequential(\n",
        "                        torch.nn.Linear(784,1024, bias=True),\n",
        "                        torch.nn.BatchNorm1d(1024),\n",
        "                        torch.nn.ReLU(),\n",
        "                        torch.nn.Dropout(p=0.50),\n",
        "                       \n",
        "\n",
        "                        torch.nn.Linear(1024, hid,bias=True),\n",
        "                        ) \n",
        "\n",
        "decoder =  lambda hid: nn.Sequential( \n",
        "                        torch.nn.Linear(hid, 1024, bias=True),\n",
        "                        torch.nn.BatchNorm1d(1024),\n",
        "                        torch.nn.ReLU(),\n",
        "                        torch.nn.Dropout(p=0.50),\n",
        "                       \n",
        "\n",
        "                        torch.nn.Linear(1024, 784, bias=True),\n",
        "                        torch.nn.BatchNorm1d(784),\n",
        "                        torch.nn.ReLU(),\n",
        "                        ) "
      ],
      "execution_count": 0,
      "outputs": []
    },
    {
      "cell_type": "code",
      "metadata": {
        "colab_type": "code",
        "id": "r463nRsz1Fh8",
        "outputId": "eaf63019-77f5-4cd2-ef8a-c5bedac9a405",
        "colab": {
          "base_uri": "https://localhost:8080/",
          "height": 374
        }
      },
      "source": [
        "device = 'cuda:0'\n",
        "train_loader = torch.utils.data.DataLoader(x_train, batch_size=500,\n",
        "                                          shuffle=True, num_workers=2)\n",
        "\n",
        "test_loader = torch.utils.data.DataLoader(x_test, batch_size=500,\n",
        "                                         shuffle=False, num_workers=2)\n",
        "net = AE(encoder(500), decoder(500))  \n",
        "criterion = nn.MSELoss()\n",
        "optimizer = torch.optim.Adam(net.parameters(), lr=1e-3)\n",
        "epochs = 1000\n",
        "train(epochs, net, criterion, optimizer, train_loader, test_loader, scheduler=None)"
      ],
      "execution_count": 0,
      "outputs": [
        {
          "output_type": "stream",
          "text": [
            "Epoch 50/1000 || Loss:  Train 6199.0454 | Validation 5984.2290\n",
            "Epoch 100/1000 || Loss:  Train 5360.6367 | Validation 5267.1484\n",
            "Epoch 150/1000 || Loss:  Train 4919.5723 | Validation 4620.9849\n",
            "Epoch 200/1000 || Loss:  Train 4266.0327 | Validation 4002.5068\n",
            "Epoch 250/1000 || Loss:  Train 3776.7117 | Validation 3465.3850\n",
            "Epoch 300/1000 || Loss:  Train 3219.2371 | Validation 2977.3862\n",
            "Epoch 350/1000 || Loss:  Train 2791.4944 | Validation 2532.9629\n",
            "Epoch 400/1000 || Loss:  Train 2343.4407 | Validation 2157.3557\n",
            "Epoch 450/1000 || Loss:  Train 2087.3027 | Validation 1820.3723\n",
            "Epoch 500/1000 || Loss:  Train 1712.2919 | Validation 1498.8153\n",
            "Epoch 550/1000 || Loss:  Train 1401.3516 | Validation 1239.2168\n",
            "Epoch 600/1000 || Loss:  Train 1305.1444 | Validation 1021.1694\n",
            "Epoch 650/1000 || Loss:  Train 1117.7649 | Validation 829.3254\n",
            "Epoch 700/1000 || Loss:  Train 936.9033 | Validation 691.4793\n",
            "Epoch 750/1000 || Loss:  Train 851.1203 | Validation 570.6173\n",
            "Epoch 800/1000 || Loss:  Train 790.6152 | Validation 472.7842\n",
            "Epoch 850/1000 || Loss:  Train 743.4664 | Validation 415.5928\n",
            "Epoch 900/1000 || Loss:  Train 755.0271 | Validation 376.0248\n",
            "Epoch 950/1000 || Loss:  Train 709.6561 | Validation 346.1165\n",
            "Epoch 1000/1000 || Loss:  Train 704.1561 | Validation 331.4141\n",
            "construction completed in 1021.1092419624329s\n"
          ],
          "name": "stdout"
        }
      ]
    },
    {
      "cell_type": "code",
      "metadata": {
        "colab_type": "code",
        "id": "qopTJ3XU1FiH",
        "outputId": "bd367f3c-15ed-421a-e712-0da98e080ffd",
        "colab": {
          "base_uri": "https://localhost:8080/",
          "height": 34
        }
      },
      "source": [
        "net.eval()\n",
        "test_loader = torch.utils.data.DataLoader(x_test, batch_size=1,\n",
        "                                         shuffle=False, num_workers=2)\n",
        "batch_count=0\n",
        "reconstruction_time=[]\n",
        "running_loss_val=0\n",
        "for X in test_loader:\n",
        "    X=X.to(device)\n",
        "    encoded=net.encoder(X)\n",
        "    start=time.time()\n",
        "    reconstructions_batch=net.decoder(encoded)\n",
        "    end=time.time()\n",
        "    reconstruction_time.append(end-start)\n",
        "    if batch_count == 0:\n",
        "      rec = reconstructions_batch\n",
        "    else:\n",
        "      rec = torch.cat((rec, reconstructions_batch), dim=0)\n",
        "    batch_count += 1\n",
        "    loss_val = criterion(reconstructions_batch, X)\n",
        "    running_loss_val += loss_val.item()\n",
        "MSE1.append(running_loss_val/batch_count)\n",
        "rec = rec.cpu().detach().numpy()\n",
        "REC1.append(rec)\n",
        "mean=np.mean(np.array(reconstruction_time))\n",
        "print(\"decode one sample in \"+str(mean)+'s')"
      ],
      "execution_count": 0,
      "outputs": [
        {
          "output_type": "stream",
          "text": [
            "decode one sample in 0.00032176971435546873s\n"
          ],
          "name": "stdout"
        }
      ]
    },
    {
      "cell_type": "markdown",
      "metadata": {
        "id": "amY6Moga1v-z",
        "colab_type": "text"
      },
      "source": [
        "75% of dropout"
      ]
    },
    {
      "cell_type": "code",
      "metadata": {
        "colab_type": "code",
        "id": "vljPfbET12pH",
        "colab": {}
      },
      "source": [
        "class AE(nn.Module):\n",
        "    def __init__(self, encoder, decoder):\n",
        "        super(AE, self).__init__()\n",
        "        self.encoder = encoder\n",
        "        self.decoder = decoder\n",
        "    \n",
        "    def forward(self, x):\n",
        "        x=x.reshape(x.shape[0],-1)\n",
        "        return self.decoder(self.encoder(x))\n",
        "\n",
        "encoder = lambda hid: nn.Sequential(\n",
        "                        torch.nn.Linear(784,1024, bias=True),\n",
        "                        torch.nn.BatchNorm1d(1024),\n",
        "                        torch.nn.ReLU(),\n",
        "                        torch.nn.Dropout(p=0.75),\n",
        "                       \n",
        "\n",
        "                        torch.nn.Linear(1024, hid,bias=True),\n",
        "                        ) \n",
        "\n",
        "decoder =  lambda hid: nn.Sequential( \n",
        "                        torch.nn.Linear(hid, 1024, bias=True),\n",
        "                        torch.nn.BatchNorm1d(1024),\n",
        "                        torch.nn.ReLU(),\n",
        "                        torch.nn.Dropout(p=0.75),\n",
        "                       \n",
        "\n",
        "                        torch.nn.Linear(1024, 784, bias=True),\n",
        "                        torch.nn.BatchNorm1d(784),\n",
        "                        torch.nn.ReLU(),\n",
        "                        ) "
      ],
      "execution_count": 0,
      "outputs": []
    },
    {
      "cell_type": "code",
      "metadata": {
        "colab_type": "code",
        "id": "KrxhOTXo12pb",
        "outputId": "66837867-1483-4448-b43c-ad9df6cd693b",
        "colab": {
          "base_uri": "https://localhost:8080/",
          "height": 374
        }
      },
      "source": [
        "device = 'cuda:0'\n",
        "train_loader = torch.utils.data.DataLoader(x_train, batch_size=500,\n",
        "                                          shuffle=True, num_workers=2)\n",
        "\n",
        "test_loader = torch.utils.data.DataLoader(x_test, batch_size=500,\n",
        "                                         shuffle=False, num_workers=2)\n",
        "net = AE(encoder(500), decoder(500))  \n",
        "criterion = nn.MSELoss()\n",
        "optimizer = torch.optim.Adam(net.parameters(), lr=1e-3)\n",
        "epochs = 1000\n",
        "train(epochs, net, criterion, optimizer, train_loader, test_loader, scheduler=None)"
      ],
      "execution_count": 0,
      "outputs": [
        {
          "output_type": "stream",
          "text": [
            "Epoch 50/1000 || Loss:  Train 6584.5103 | Validation 6054.4468\n",
            "Epoch 100/1000 || Loss:  Train 5836.1870 | Validation 5393.3530\n",
            "Epoch 150/1000 || Loss:  Train 5062.7217 | Validation 4783.4961\n",
            "Epoch 200/1000 || Loss:  Train 4436.6216 | Validation 4222.3726\n",
            "Epoch 250/1000 || Loss:  Train 3940.2163 | Validation 3716.4629\n",
            "Epoch 300/1000 || Loss:  Train 3370.6204 | Validation 3256.4648\n",
            "Epoch 350/1000 || Loss:  Train 3014.5605 | Validation 2846.9092\n",
            "Epoch 400/1000 || Loss:  Train 2666.0410 | Validation 2474.7522\n",
            "Epoch 450/1000 || Loss:  Train 2379.7703 | Validation 2154.9846\n",
            "Epoch 500/1000 || Loss:  Train 2121.1050 | Validation 1866.7046\n",
            "Epoch 550/1000 || Loss:  Train 1931.6798 | Validation 1611.8929\n",
            "Epoch 600/1000 || Loss:  Train 1721.9745 | Validation 1407.9287\n",
            "Epoch 650/1000 || Loss:  Train 1660.7593 | Validation 1236.0403\n",
            "Epoch 700/1000 || Loss:  Train 1535.0093 | Validation 1081.3317\n",
            "Epoch 750/1000 || Loss:  Train 1441.1239 | Validation 969.4169\n",
            "Epoch 800/1000 || Loss:  Train 1366.7550 | Validation 884.3383\n",
            "Epoch 850/1000 || Loss:  Train 1299.6000 | Validation 819.7038\n",
            "Epoch 900/1000 || Loss:  Train 1289.7999 | Validation 782.9130\n",
            "Epoch 950/1000 || Loss:  Train 1281.8019 | Validation 762.4802\n",
            "Epoch 1000/1000 || Loss:  Train 1268.6493 | Validation 748.1810\n",
            "construction completed in 1036.0162272453308s\n"
          ],
          "name": "stdout"
        }
      ]
    },
    {
      "cell_type": "code",
      "metadata": {
        "colab_type": "code",
        "id": "7NgTWIVN12pr",
        "outputId": "d773a480-ead8-4e3c-f938-b6ba89c1875d",
        "colab": {
          "base_uri": "https://localhost:8080/",
          "height": 34
        }
      },
      "source": [
        "net.eval()\n",
        "test_loader = torch.utils.data.DataLoader(x_test, batch_size=1,\n",
        "                                         shuffle=False, num_workers=2)\n",
        "batch_count=0\n",
        "reconstruction_time=[]\n",
        "running_loss_val=0\n",
        "for X in test_loader:\n",
        "    X=X.to(device)\n",
        "    encoded=net.encoder(X)\n",
        "    start=time.time()\n",
        "    reconstructions_batch=net.decoder(encoded)\n",
        "    end=time.time()\n",
        "    reconstruction_time.append(end-start)\n",
        "    if batch_count == 0:\n",
        "      rec = reconstructions_batch\n",
        "    else:\n",
        "      rec = torch.cat((rec, reconstructions_batch), dim=0)\n",
        "    batch_count += 1\n",
        "    loss_val = criterion(reconstructions_batch, X)\n",
        "    running_loss_val += loss_val.item()\n",
        "MSE1.append(running_loss_val/batch_count)\n",
        "rec = rec.cpu().detach().numpy()\n",
        "REC1.append(rec)\n",
        "mean=np.mean(np.array(reconstruction_time))\n",
        "print(\"decode one sample in \"+str(mean)+'s')"
      ],
      "execution_count": 0,
      "outputs": [
        {
          "output_type": "stream",
          "text": [
            "decode one sample in 0.0003267815113067627s\n"
          ],
          "name": "stdout"
        }
      ]
    },
    {
      "cell_type": "markdown",
      "metadata": {
        "id": "bUDoY6tKrJ7q",
        "colab_type": "text"
      },
      "source": [
        "Collecting results in one fig for MLP-1"
      ]
    },
    {
      "cell_type": "code",
      "metadata": {
        "id": "8TQslVKMrCwB",
        "colab_type": "code",
        "outputId": "678b5d6b-79cd-49df-aee4-eae09042a850",
        "colab": {
          "base_uri": "https://localhost:8080/",
          "height": 691
        }
      },
      "source": [
        "fig, ax = plt.subplots(ncols=10, nrows=5, figsize=(20, 2.5*5))\n",
        "for i in range(10):\n",
        "  im=x_test[i]\n",
        "  ax[0, i].imshow(im.reshape(28,28).astype('int'), cmap='gray');\n",
        "  ax[0, i].get_xaxis().set_ticks([])\n",
        "  ax[0, i].get_yaxis().set_ticks([])\n",
        "  ax[0, 0].set_ylabel(f\"$Original$\",fontsize=18)\n",
        "for i in range(10):\n",
        "  ax[1, i].imshow(REC1[0][i].reshape(28,28).astype('int'),cmap='gray')\n",
        "  ax[1, i].get_xaxis().set_ticks([])\n",
        "  ax[1, i].get_yaxis().set_ticks([])\n",
        "  ax[1, 0].set_ylabel(f\"$Drop$ 0%\",fontsize=18)\n",
        "  ax[2, i].imshow(REC1[1][i].reshape(28,28).astype('int'),cmap='gray')\n",
        "  ax[2, i].get_xaxis().set_ticks([])\n",
        "  ax[2, i].get_yaxis().set_ticks([])\n",
        "  ax[2, 0].set_ylabel(f\"$Drop$ 25%\",fontsize=18)\n",
        "  ax[3, i].imshow(REC1[2][i].reshape(28,28).astype('int'),cmap='gray')\n",
        "  ax[3, i].get_xaxis().set_ticks([])\n",
        "  ax[3, i].get_yaxis().set_ticks([])\n",
        "  ax[3, 0].set_ylabel(f\"$Drop$ 50%\",fontsize=18)\n",
        "  ax[4, i].imshow(REC1[3][i].reshape(28,28).astype('int'),cmap='gray')\n",
        "  ax[4, i].get_xaxis().set_ticks([])\n",
        "  ax[4, i].get_yaxis().set_ticks([])\n",
        "  ax[4, 0].set_ylabel(f\"$Drop$ 75%\",fontsize=18)"
      ],
      "execution_count": 0,
      "outputs": [
        {
          "output_type": "display_data",
          "data": {
            "image/png": "[encoded data removed]",
            "text/plain": [
              "<Figure size 1440x900 with 50 Axes>"
            ]
          },
          "metadata": {
            "tags": []
          }
        }
      ]
    },
    {
      "cell_type": "code",
      "metadata": {
        "id": "OZAI1H9kAFZ0",
        "colab_type": "code",
        "outputId": "8311b339-5593-4424-9dec-2966742f5d70",
        "colab": {
          "base_uri": "https://localhost:8080/",
          "height": 34
        }
      },
      "source": [
        "MSE1"
      ],
      "execution_count": 0,
      "outputs": [
        {
          "output_type": "execute_result",
          "data": {
            "text/plain": [
              "[4.784266754150391, 136.01086466979982, 328.4368291511536, 738.4314643554687]"
            ]
          },
          "metadata": {
            "tags": []
          },
          "execution_count": 19
        }
      ]
    },
    {
      "cell_type": "markdown",
      "metadata": {
        "id": "pbnON4jGobn6",
        "colab_type": "text"
      },
      "source": [
        "### 1.2 MLP-2"
      ]
    },
    {
      "cell_type": "code",
      "metadata": {
        "id": "k7d6oPjDo8Z-",
        "colab_type": "code",
        "colab": {}
      },
      "source": [
        "MSE2=[]\n",
        "REC2=[]"
      ],
      "execution_count": 0,
      "outputs": []
    },
    {
      "cell_type": "markdown",
      "metadata": {
        "id": "uHPyJl2iLRbE",
        "colab_type": "text"
      },
      "source": [
        "0% of dropout"
      ]
    },
    {
      "cell_type": "code",
      "metadata": {
        "colab_type": "code",
        "id": "AQjfWbdlLT2A",
        "colab": {}
      },
      "source": [
        "train_loader = torch.utils.data.DataLoader(x_train, batch_size=500,\n",
        "                                          shuffle=True, num_workers=2)\n",
        "\n",
        "test_loader = torch.utils.data.DataLoader(x_test, batch_size=500,\n",
        "                                         shuffle=False, num_workers=2)\n",
        "encoder = lambda hid: nn.Sequential(\n",
        "                        torch.nn.Linear(784,2048, bias=True),\n",
        "                        torch.nn.BatchNorm1d(2048),\n",
        "                        torch.nn.ReLU(),\n",
        "                        \n",
        "                       \n",
        "\n",
        "                        torch.nn.Linear(2048, hid,bias=True),\n",
        "                        ) \n",
        "\n",
        "decoder =  lambda hid: nn.Sequential( \n",
        "                        torch.nn.Linear(hid, 2048, bias=True),\n",
        "                        torch.nn.BatchNorm1d(2048),\n",
        "                        torch.nn.ReLU(),\n",
        "                        \n",
        "                       \n",
        "\n",
        "                        torch.nn.Linear(2048, 784, bias=True),\n",
        "                        torch.nn.BatchNorm1d(784),\n",
        "                        torch.nn.ReLU(),\n",
        "                        ) "
      ],
      "execution_count": 0,
      "outputs": []
    },
    {
      "cell_type": "code",
      "metadata": {
        "colab_type": "code",
        "id": "9wbFyKGpLT2G",
        "outputId": "dc5ca57a-7754-4ab4-84af-3d5dffb68265",
        "colab": {
          "base_uri": "https://localhost:8080/",
          "height": 374
        }
      },
      "source": [
        "device = 'cuda:0'\n",
        "\n",
        "net = AE(encoder(1000), decoder(1000))  \n",
        "criterion = nn.MSELoss()\n",
        "optimizer = torch.optim.Adam(net.parameters(), lr=1e-3)\n",
        "\n",
        "epochs = 1000\n",
        "train(epochs, net, criterion, optimizer, train_loader, test_loader, scheduler=None)"
      ],
      "execution_count": 0,
      "outputs": [
        {
          "output_type": "stream",
          "text": [
            "Epoch 50/1000 || Loss:  Train 6177.8857 | Validation 5894.5400\n",
            "Epoch 100/1000 || Loss:  Train 5409.5723 | Validation 5110.3936\n",
            "Epoch 150/1000 || Loss:  Train 4619.4194 | Validation 4406.4741\n",
            "Epoch 200/1000 || Loss:  Train 3927.2305 | Validation 3766.3032\n",
            "Epoch 250/1000 || Loss:  Train 3428.6934 | Validation 3173.9819\n",
            "Epoch 300/1000 || Loss:  Train 2837.9917 | Validation 2660.2542\n",
            "Epoch 350/1000 || Loss:  Train 2353.7957 | Validation 2212.6050\n",
            "Epoch 400/1000 || Loss:  Train 1942.5243 | Validation 1783.8951\n",
            "Epoch 450/1000 || Loss:  Train 1574.4459 | Validation 1449.8148\n",
            "Epoch 500/1000 || Loss:  Train 1148.8241 | Validation 1130.4365\n",
            "Epoch 550/1000 || Loss:  Train 919.6266 | Validation 868.6699\n",
            "Epoch 600/1000 || Loss:  Train 695.5673 | Validation 649.2319\n",
            "Epoch 650/1000 || Loss:  Train 488.2134 | Validation 452.1800\n",
            "Epoch 700/1000 || Loss:  Train 339.5865 | Validation 309.6317\n",
            "Epoch 750/1000 || Loss:  Train 222.7429 | Validation 197.1481\n",
            "Epoch 800/1000 || Loss:  Train 128.6500 | Validation 116.5629\n",
            "Epoch 850/1000 || Loss:  Train 80.7876 | Validation 59.5413\n",
            "Epoch 900/1000 || Loss:  Train 39.1988 | Validation 25.5314\n",
            "Epoch 950/1000 || Loss:  Train 23.1850 | Validation 11.2342\n",
            "Epoch 1000/1000 || Loss:  Train 10.7095 | Validation 3.8982\n",
            "construction completed in 1761.463104724884s\n"
          ],
          "name": "stdout"
        }
      ]
    },
    {
      "cell_type": "code",
      "metadata": {
        "colab_type": "code",
        "id": "T8q_a7ypLT2L",
        "outputId": "51736016-e11e-4fea-d61a-4977895163a8",
        "colab": {
          "base_uri": "https://localhost:8080/",
          "height": 34
        }
      },
      "source": [
        "net.eval()\n",
        "test_loader = torch.utils.data.DataLoader(x_test, batch_size=1,\n",
        "                                         shuffle=False, num_workers=2)\n",
        "batch_count=0\n",
        "reconstruction_time=[]\n",
        "running_loss_val=0\n",
        "for X in test_loader:\n",
        "    X=X.to(device)\n",
        "    encoded=net.encoder(X)\n",
        "    start=time.time()\n",
        "    reconstructions_batch=net.decoder(encoded)\n",
        "    end=time.time()\n",
        "    reconstruction_time.append(end-start)\n",
        "    if batch_count == 0:\n",
        "      rec = reconstructions_batch\n",
        "    else:\n",
        "      rec = torch.cat((rec, reconstructions_batch), dim=0)\n",
        "    batch_count += 1\n",
        "    loss_val = criterion(reconstructions_batch, X)\n",
        "    running_loss_val += loss_val.item()\n",
        "MSE2.append(running_loss_val/batch_count)\n",
        "rec = rec.cpu().detach().numpy()\n",
        "REC2.append(rec)\n",
        "mean=np.mean(np.array(reconstruction_time))\n",
        "print(\"decode one sample in \"+str(mean)+'s')"
      ],
      "execution_count": 0,
      "outputs": [
        {
          "output_type": "stream",
          "text": [
            "decode one sample in 0.0003001735210418701s\n"
          ],
          "name": "stdout"
        }
      ]
    },
    {
      "cell_type": "markdown",
      "metadata": {
        "id": "8lv8c2MWl038",
        "colab_type": "text"
      },
      "source": [
        "25% of dropout"
      ]
    },
    {
      "cell_type": "code",
      "metadata": {
        "id": "-PvWvLvVoZ5V",
        "colab_type": "code",
        "colab": {}
      },
      "source": [
        "train_loader = torch.utils.data.DataLoader(x_train, batch_size=500,\n",
        "                                          shuffle=True, num_workers=2)\n",
        "\n",
        "test_loader = torch.utils.data.DataLoader(x_test, batch_size=500,\n",
        "                                         shuffle=False, num_workers=2)\n",
        "encoder = lambda hid: nn.Sequential(\n",
        "                        torch.nn.Linear(784,2048, bias=True),\n",
        "                        torch.nn.BatchNorm1d(2048),\n",
        "                        torch.nn.ReLU(),\n",
        "                        torch.nn.Dropout(p=0.25),\n",
        "                       \n",
        "\n",
        "                        torch.nn.Linear(2048, hid,bias=True),\n",
        "                        ) \n",
        "\n",
        "decoder =  lambda hid: nn.Sequential( \n",
        "                        torch.nn.Linear(hid, 2048, bias=True),\n",
        "                        torch.nn.BatchNorm1d(2048),\n",
        "                        torch.nn.ReLU(),\n",
        "                        torch.nn.Dropout(p=0.25),\n",
        "                       \n",
        "\n",
        "                        torch.nn.Linear(2048, 784, bias=True),\n",
        "                        torch.nn.BatchNorm1d(784),\n",
        "                        torch.nn.ReLU(),\n",
        "                        ) "
      ],
      "execution_count": 0,
      "outputs": []
    },
    {
      "cell_type": "code",
      "metadata": {
        "colab_type": "code",
        "id": "mzsAnMuzYTVf",
        "outputId": "44c62299-c831-4323-90b1-950a2c637b38",
        "colab": {
          "base_uri": "https://localhost:8080/",
          "height": 374
        }
      },
      "source": [
        "device = 'cuda:0'\n",
        "\n",
        "net = AE(encoder(1000), decoder(1000))  \n",
        "criterion = nn.MSELoss()\n",
        "optimizer = torch.optim.Adam(net.parameters(), lr=1e-3)\n",
        "\n",
        "epochs = 1000\n",
        "train(epochs, net, criterion, optimizer, train_loader, test_loader, scheduler=None)"
      ],
      "execution_count": 0,
      "outputs": [
        {
          "output_type": "stream",
          "text": [
            "Epoch 50/1000 || Loss:  Train 6216.3872 | Validation 5930.9556\n",
            "Epoch 100/1000 || Loss:  Train 5588.8423 | Validation 5163.7007\n",
            "Epoch 150/1000 || Loss:  Train 4827.2051 | Validation 4468.5879\n",
            "Epoch 200/1000 || Loss:  Train 3902.5168 | Validation 3832.9944\n",
            "Epoch 250/1000 || Loss:  Train 3516.1338 | Validation 3279.8997\n",
            "Epoch 300/1000 || Loss:  Train 2875.3411 | Validation 2759.9944\n",
            "Epoch 350/1000 || Loss:  Train 2363.9844 | Validation 2294.7454\n",
            "Epoch 400/1000 || Loss:  Train 2070.1721 | Validation 1888.8644\n",
            "Epoch 450/1000 || Loss:  Train 1676.4277 | Validation 1526.7158\n",
            "Epoch 500/1000 || Loss:  Train 1369.1082 | Validation 1233.9263\n",
            "Epoch 550/1000 || Loss:  Train 1153.5382 | Validation 949.9514\n",
            "Epoch 600/1000 || Loss:  Train 858.6636 | Validation 720.3552\n",
            "Epoch 650/1000 || Loss:  Train 647.0336 | Validation 547.9894\n",
            "Epoch 700/1000 || Loss:  Train 497.5662 | Validation 398.0347\n",
            "Epoch 750/1000 || Loss:  Train 393.9688 | Validation 275.9344\n",
            "Epoch 800/1000 || Loss:  Train 322.5378 | Validation 185.0631\n",
            "Epoch 850/1000 || Loss:  Train 248.1772 | Validation 126.5111\n",
            "Epoch 900/1000 || Loss:  Train 219.9158 | Validation 89.6360\n",
            "Epoch 950/1000 || Loss:  Train 202.0816 | Validation 65.9290\n",
            "Epoch 1000/1000 || Loss:  Train 199.4499 | Validation 57.1856\n",
            "construction completed in 1776.5228641033173s\n"
          ],
          "name": "stdout"
        }
      ]
    },
    {
      "cell_type": "code",
      "metadata": {
        "colab_type": "code",
        "id": "kEeh-HdDYfmT",
        "outputId": "df5d3cc1-e4f2-4e83-dedb-3d45283d472d",
        "colab": {
          "base_uri": "https://localhost:8080/",
          "height": 34
        }
      },
      "source": [
        "net.eval()\n",
        "test_loader = torch.utils.data.DataLoader(x_test, batch_size=1,\n",
        "                                         shuffle=False, num_workers=2)\n",
        "batch_count=0\n",
        "reconstruction_time=[]\n",
        "running_loss_val=0\n",
        "for X in test_loader:\n",
        "    X=X.to(device)\n",
        "    encoded=net.encoder(X)\n",
        "    start=time.time()\n",
        "    reconstructions_batch=net.decoder(encoded)\n",
        "    end=time.time()\n",
        "    reconstruction_time.append(end-start)\n",
        "    if batch_count == 0:\n",
        "      rec = reconstructions_batch\n",
        "    else:\n",
        "      rec = torch.cat((rec, reconstructions_batch), dim=0)\n",
        "    batch_count += 1\n",
        "    loss_val = criterion(reconstructions_batch, X)\n",
        "    running_loss_val += loss_val.item()\n",
        "MSE2.append(running_loss_val/batch_count)\n",
        "rec = rec.cpu().detach().numpy()\n",
        "REC2.append(rec)\n",
        "mean=np.mean(np.array(reconstruction_time))\n",
        "print(\"decode one sample in \"+str(mean)+'s')"
      ],
      "execution_count": 0,
      "outputs": [
        {
          "output_type": "stream",
          "text": [
            "decode one sample in 0.00029851627349853515s\n"
          ],
          "name": "stdout"
        }
      ]
    },
    {
      "cell_type": "code",
      "metadata": {
        "id": "3v7WlFRirW8Y",
        "colab_type": "code",
        "outputId": "b6210627-59c6-4454-8895-ea4fe4144fc9",
        "colab": {
          "base_uri": "https://localhost:8080/",
          "height": 129
        }
      },
      "source": [
        "fig, ax = plt.subplots(ncols=10, nrows=1, figsize=(20, 2.5))\n",
        "for X_test in test_loader:\n",
        "  for i in range(10):\n",
        "      ax[i].imshow(rec[i].reshape(28,28),cmap='gray')\n",
        "      ax[i].get_xaxis().set_ticks([])\n",
        "      ax[i].get_yaxis().set_ticks([])\n",
        "  ax[0].set_ylabel(f\"$MLP_2$\",fontsize=18)\n",
        "  break"
      ],
      "execution_count": 0,
      "outputs": [
        {
          "output_type": "display_data",
          "data": {
            "image/png": "[encoded data removed]",
            "text/plain": [
              "<Figure size 1440x180 with 10 Axes>"
            ]
          },
          "metadata": {
            "tags": []
          }
        }
      ]
    },
    {
      "cell_type": "markdown",
      "metadata": {
        "id": "zfBpMHR-mHCF",
        "colab_type": "text"
      },
      "source": [
        "50% of dropout"
      ]
    },
    {
      "cell_type": "code",
      "metadata": {
        "colab_type": "code",
        "id": "N88iJdYrmEo8",
        "colab": {}
      },
      "source": [
        "train_loader = torch.utils.data.DataLoader(x_train, batch_size=500,\n",
        "                                          shuffle=True, num_workers=2)\n",
        "\n",
        "test_loader = torch.utils.data.DataLoader(x_test, batch_size=500,\n",
        "                                         shuffle=False, num_workers=2)\n",
        "encoder = lambda hid: nn.Sequential(\n",
        "                        torch.nn.Linear(784,2048, bias=True),\n",
        "                        torch.nn.BatchNorm1d(2048),\n",
        "                        torch.nn.ReLU(),\n",
        "                        torch.nn.Dropout(p=0.50),\n",
        "                       \n",
        "\n",
        "                        torch.nn.Linear(2048, hid,bias=True),\n",
        "                        ) \n",
        "\n",
        "decoder =  lambda hid: nn.Sequential( \n",
        "                        torch.nn.Linear(hid, 2048, bias=True),\n",
        "                        torch.nn.BatchNorm1d(2048),\n",
        "                        torch.nn.ReLU(),\n",
        "                        torch.nn.Dropout(p=0.50),\n",
        "                       \n",
        "\n",
        "                        torch.nn.Linear(2048, 784, bias=True),\n",
        "                        torch.nn.BatchNorm1d(784),\n",
        "                        torch.nn.ReLU(),\n",
        "                        ) "
      ],
      "execution_count": 0,
      "outputs": []
    },
    {
      "cell_type": "code",
      "metadata": {
        "colab_type": "code",
        "id": "1f1x5J-KmEpX",
        "outputId": "953d0a38-f052-4fbb-fc8f-d4638423007d",
        "colab": {
          "base_uri": "https://localhost:8080/",
          "height": 374
        }
      },
      "source": [
        "device = 'cuda:0'\n",
        "\n",
        "net = AE(encoder(1000), decoder(1000))  \n",
        "criterion = nn.MSELoss()\n",
        "optimizer = torch.optim.Adam(net.parameters(), lr=1e-3)\n",
        "\n",
        "epochs = 1000\n",
        "train(epochs, net, criterion, optimizer, train_loader, test_loader, scheduler=None)"
      ],
      "execution_count": 0,
      "outputs": [
        {
          "output_type": "stream",
          "text": [
            "Epoch 50/1000 || Loss:  Train 6468.7944 | Validation 5953.5156\n",
            "Epoch 100/1000 || Loss:  Train 5589.8389 | Validation 5219.7163\n",
            "Epoch 150/1000 || Loss:  Train 4944.9238 | Validation 4538.9097\n",
            "Epoch 200/1000 || Loss:  Train 4117.8208 | Validation 3920.5500\n",
            "Epoch 250/1000 || Loss:  Train 3516.3062 | Validation 3357.6260\n",
            "Epoch 300/1000 || Loss:  Train 3000.5857 | Validation 2853.3281\n",
            "Epoch 350/1000 || Loss:  Train 2670.4346 | Validation 2432.0913\n",
            "Epoch 400/1000 || Loss:  Train 2219.0056 | Validation 2020.4373\n",
            "Epoch 450/1000 || Loss:  Train 1852.3557 | Validation 1674.2988\n",
            "Epoch 500/1000 || Loss:  Train 1535.0461 | Validation 1380.6783\n",
            "Epoch 550/1000 || Loss:  Train 1263.1340 | Validation 1093.3706\n",
            "Epoch 600/1000 || Loss:  Train 1047.8812 | Validation 867.7397\n",
            "Epoch 650/1000 || Loss:  Train 884.8054 | Validation 679.5134\n",
            "Epoch 700/1000 || Loss:  Train 739.6360 | Validation 522.5627\n",
            "Epoch 750/1000 || Loss:  Train 589.1882 | Validation 401.9738\n",
            "Epoch 800/1000 || Loss:  Train 537.4294 | Validation 318.7825\n",
            "Epoch 850/1000 || Loss:  Train 485.1493 | Validation 256.7073\n",
            "Epoch 900/1000 || Loss:  Train 462.9557 | Validation 212.5606\n",
            "Epoch 950/1000 || Loss:  Train 444.3078 | Validation 188.9245\n",
            "Epoch 1000/1000 || Loss:  Train 432.1898 | Validation 176.1683\n",
            "construction completed in 1765.992124080658s\n"
          ],
          "name": "stdout"
        }
      ]
    },
    {
      "cell_type": "code",
      "metadata": {
        "colab_type": "code",
        "id": "uTrpXAJLmEpc",
        "outputId": "77af9007-8e55-4c20-9fce-c6061843521c",
        "colab": {
          "base_uri": "https://localhost:8080/",
          "height": 34
        }
      },
      "source": [
        "net.eval()\n",
        "test_loader = torch.utils.data.DataLoader(x_test, batch_size=1,\n",
        "                                         shuffle=False, num_workers=2)\n",
        "batch_count=0\n",
        "reconstruction_time=[]\n",
        "running_loss_val=0\n",
        "for X in test_loader:\n",
        "    X=X.to(device)\n",
        "    encoded=net.encoder(X)\n",
        "    start=time.time()\n",
        "    reconstructions_batch=net.decoder(encoded)\n",
        "    end=time.time()\n",
        "    reconstruction_time.append(end-start)\n",
        "    if batch_count == 0:\n",
        "      rec = reconstructions_batch\n",
        "    else:\n",
        "      rec = torch.cat((rec, reconstructions_batch), dim=0)\n",
        "    batch_count += 1\n",
        "    loss_val = criterion(reconstructions_batch, X)\n",
        "    running_loss_val += loss_val.item()\n",
        "MSE2.append(running_loss_val/batch_count)\n",
        "rec = rec.cpu().detach().numpy()\n",
        "REC2.append(rec)\n",
        "mean=np.mean(np.array(reconstruction_time))\n",
        "print(\"decode one sample in \"+str(mean)+'s')"
      ],
      "execution_count": 0,
      "outputs": [
        {
          "output_type": "stream",
          "text": [
            "decode one sample in 0.00030584311485290527s\n"
          ],
          "name": "stdout"
        }
      ]
    },
    {
      "cell_type": "markdown",
      "metadata": {
        "id": "6KCexPJ9mK3k",
        "colab_type": "text"
      },
      "source": [
        "75% of dropout"
      ]
    },
    {
      "cell_type": "code",
      "metadata": {
        "colab_type": "code",
        "id": "1v9NJP1WmPws",
        "colab": {}
      },
      "source": [
        "train_loader = torch.utils.data.DataLoader(x_train, batch_size=500,\n",
        "                                          shuffle=True, num_workers=2)\n",
        "\n",
        "test_loader = torch.utils.data.DataLoader(x_test, batch_size=500,\n",
        "                                         shuffle=False, num_workers=2)\n",
        "encoder = lambda hid: nn.Sequential(\n",
        "                        torch.nn.Linear(784,2048, bias=True),\n",
        "                        torch.nn.BatchNorm1d(2048),\n",
        "                        torch.nn.ReLU(),\n",
        "                        torch.nn.Dropout(p=0.75),\n",
        "                       \n",
        "\n",
        "                        torch.nn.Linear(2048, hid,bias=True),\n",
        "                        ) \n",
        "\n",
        "decoder =  lambda hid: nn.Sequential( \n",
        "                        torch.nn.Linear(hid, 2048, bias=True),\n",
        "                        torch.nn.BatchNorm1d(2048),\n",
        "                        torch.nn.ReLU(),\n",
        "                        torch.nn.Dropout(p=0.75),\n",
        "                       \n",
        "\n",
        "                        torch.nn.Linear(2048, 784, bias=True),\n",
        "                        torch.nn.BatchNorm1d(784),\n",
        "                        torch.nn.ReLU(),\n",
        "                        ) "
      ],
      "execution_count": 0,
      "outputs": []
    },
    {
      "cell_type": "code",
      "metadata": {
        "colab_type": "code",
        "id": "sncjg9PsmPw7",
        "outputId": "2f48d2a4-a36f-4c50-f602-eaa852292a74",
        "colab": {
          "base_uri": "https://localhost:8080/",
          "height": 374
        }
      },
      "source": [
        "device = 'cuda:0'\n",
        "\n",
        "net = AE(encoder(1000), decoder(1000))  \n",
        "criterion = nn.MSELoss()\n",
        "optimizer = torch.optim.Adam(net.parameters(), lr=1e-3)\n",
        "\n",
        "epochs = 1000\n",
        "train(epochs, net, criterion, optimizer, train_loader, test_loader, scheduler=None)"
      ],
      "execution_count": 0,
      "outputs": [
        {
          "output_type": "stream",
          "text": [
            "Epoch 50/1000 || Loss:  Train 6340.1436 | Validation 5998.1992\n",
            "Epoch 100/1000 || Loss:  Train 5645.4736 | Validation 5302.7993\n",
            "Epoch 150/1000 || Loss:  Train 4798.9858 | Validation 4648.6099\n",
            "Epoch 200/1000 || Loss:  Train 4287.3594 | Validation 4069.9121\n",
            "Epoch 250/1000 || Loss:  Train 3677.8650 | Validation 3558.7654\n",
            "Epoch 300/1000 || Loss:  Train 3244.3315 | Validation 3052.8208\n",
            "Epoch 350/1000 || Loss:  Train 2833.0627 | Validation 2627.4958\n",
            "Epoch 400/1000 || Loss:  Train 2442.5889 | Validation 2245.6021\n",
            "Epoch 450/1000 || Loss:  Train 2107.9817 | Validation 1938.8804\n",
            "Epoch 500/1000 || Loss:  Train 1849.4282 | Validation 1606.9935\n",
            "Epoch 550/1000 || Loss:  Train 1640.6909 | Validation 1360.3652\n",
            "Epoch 600/1000 || Loss:  Train 1425.3435 | Validation 1134.1720\n",
            "Epoch 650/1000 || Loss:  Train 1243.0498 | Validation 944.8298\n",
            "Epoch 700/1000 || Loss:  Train 1134.8081 | Validation 802.2310\n",
            "Epoch 750/1000 || Loss:  Train 1033.6666 | Validation 673.6844\n",
            "Epoch 800/1000 || Loss:  Train 990.2592 | Validation 590.9553\n",
            "Epoch 850/1000 || Loss:  Train 921.8514 | Validation 529.5323\n",
            "Epoch 900/1000 || Loss:  Train 914.3065 | Validation 484.8082\n",
            "Epoch 950/1000 || Loss:  Train 879.4870 | Validation 455.0106\n",
            "Epoch 1000/1000 || Loss:  Train 902.0828 | Validation 444.4867\n",
            "construction completed in 1779.4035995006561s\n"
          ],
          "name": "stdout"
        }
      ]
    },
    {
      "cell_type": "code",
      "metadata": {
        "colab_type": "code",
        "id": "7VzItoK3mPxB",
        "outputId": "ac83894a-3933-472b-a588-0a1a6506be84",
        "colab": {
          "base_uri": "https://localhost:8080/",
          "height": 34
        }
      },
      "source": [
        "net.eval()\n",
        "test_loader = torch.utils.data.DataLoader(x_test, batch_size=1,\n",
        "                                         shuffle=False, num_workers=2)\n",
        "batch_count=0\n",
        "reconstruction_time=[]\n",
        "running_loss_val=0\n",
        "for X in test_loader:\n",
        "    X=X.to(device)\n",
        "    encoded=net.encoder(X)\n",
        "    start=time.time()\n",
        "    reconstructions_batch=net.decoder(encoded)\n",
        "    end=time.time()\n",
        "    reconstruction_time.append(end-start)\n",
        "    if batch_count == 0:\n",
        "      rec = reconstructions_batch\n",
        "    else:\n",
        "      rec = torch.cat((rec, reconstructions_batch), dim=0)\n",
        "    batch_count += 1\n",
        "    loss_val = criterion(reconstructions_batch, X)\n",
        "    running_loss_val += loss_val.item()\n",
        "MSE2.append(running_loss_val/batch_count)\n",
        "rec = rec.cpu().detach().numpy()\n",
        "REC2.append(rec)\n",
        "mean=np.mean(np.array(reconstruction_time))\n",
        "print(\"decode one sample in \"+str(mean)+'s')"
      ],
      "execution_count": 0,
      "outputs": [
        {
          "output_type": "stream",
          "text": [
            "decode one sample in 0.0003097679615020752s\n"
          ],
          "name": "stdout"
        }
      ]
    },
    {
      "cell_type": "code",
      "metadata": {
        "id": "KpXa__dz8807",
        "colab_type": "code",
        "outputId": "828908c5-cd58-462f-c2d7-85f224dc767d",
        "colab": {
          "base_uri": "https://localhost:8080/",
          "height": 34
        }
      },
      "source": [
        "MSE2"
      ],
      "execution_count": 0,
      "outputs": [
        {
          "output_type": "execute_result",
          "data": {
            "text/plain": [
              "[3.870105979681015, 56.487842401981354, 174.67230813217162, 440.67051216125486]"
            ]
          },
          "metadata": {
            "tags": []
          },
          "execution_count": 48
        }
      ]
    },
    {
      "cell_type": "markdown",
      "metadata": {
        "id": "xqEOpC3HoOHq",
        "colab_type": "text"
      },
      "source": [
        "Collecting results in one fig for MLP-2"
      ]
    },
    {
      "cell_type": "code",
      "metadata": {
        "id": "A3kA0T4JyDYU",
        "colab_type": "code",
        "outputId": "44189136-ef47-4e4f-be76-135897905a54",
        "colab": {
          "base_uri": "https://localhost:8080/",
          "height": 691
        }
      },
      "source": [
        "fig, ax = plt.subplots(ncols=10, nrows=5, figsize=(20, 2.5*5))\n",
        "for i in range(10):\n",
        "  im=x_test[i]\n",
        "  ax[0, i].imshow(im.reshape(28,28).astype('int'),cmap='gray');\n",
        "  ax[0, i].get_xaxis().set_ticks([])\n",
        "  ax[0, i].get_yaxis().set_ticks([])\n",
        "  ax[0, 0].set_ylabel(f\"$Original$\",fontsize=18)\n",
        "for i in range(10):\n",
        "  ax[1, i].imshow(REC2[0][i].reshape(28,28).astype('int'),cmap='gray')\n",
        "  ax[1, i].get_xaxis().set_ticks([])\n",
        "  ax[1, i].get_yaxis().set_ticks([])\n",
        "  ax[1, 0].set_ylabel(f\"$Drop$ 0%\",fontsize=18)\n",
        "  ax[2, i].imshow(REC2[1][i].reshape(28,28).astype('int'),cmap='gray')\n",
        "  ax[2, i].get_xaxis().set_ticks([])\n",
        "  ax[2, i].get_yaxis().set_ticks([])\n",
        "  ax[2, 0].set_ylabel(f\"$Drop$ 25%\",fontsize=18)\n",
        "  ax[3, i].imshow(REC2[2][i].reshape(28,28).astype('int'),cmap='gray')\n",
        "  ax[3, i].get_xaxis().set_ticks([])\n",
        "  ax[3, i].get_yaxis().set_ticks([])\n",
        "  ax[3, 0].set_ylabel(f\"$Drop$ 50%\",fontsize=18)\n",
        "  ax[4, i].imshow(REC2[3][i].reshape(28,28).astype('int'),cmap='gray')\n",
        "  ax[4, i].get_xaxis().set_ticks([])\n",
        "  ax[4, i].get_yaxis().set_ticks([])\n",
        "  ax[4, 0].set_ylabel(f\"$Drop$ 75%\",fontsize=18)"
      ],
      "execution_count": 0,
      "outputs": [
        {
          "output_type": "display_data",
          "data": {
            "image/png": "[encoded data removed]",
            "text/plain": [
              "<Figure size 1440x900 with 50 Axes>"
            ]
          },
          "metadata": {
            "tags": []
          }
        }
      ]
    },
    {
      "cell_type": "markdown",
      "metadata": {
        "id": "CVWfyo7Rk1gt",
        "colab_type": "text"
      },
      "source": [
        "## 2. MLP-2 train mnist/test omniglot"
      ]
    },
    {
      "cell_type": "code",
      "metadata": {
        "id": "RcRSHRaa3MgN",
        "colab_type": "code",
        "colab": {}
      },
      "source": [
        "\n",
        "(x_train, y_train), _ = mnist.load_data()"
      ],
      "execution_count": 0,
      "outputs": []
    },
    {
      "cell_type": "code",
      "metadata": {
        "id": "mcxsrLwkDr2c",
        "colab_type": "code",
        "outputId": "5f1fe32a-7fd6-43fb-e4ac-824aeb179dbe",
        "colab": {
          "base_uri": "https://localhost:8080/",
          "height": 34
        }
      },
      "source": [
        "import torchvision\n",
        "\n",
        "dataset = torchvision.datasets.Omniglot(\n",
        "    root=\"./data\", download=True, transform=torchvision.transforms.ToTensor()\n",
        ")\n",
        "label=[]\n",
        "\n",
        "for i in range(0,len(dataset)):\n",
        "  if i==0:\n",
        "    image, _ = dataset[i]\n",
        "    label.append(dataset[i][1])\n",
        "    \n",
        "  elif dataset[i][1]!=label[-1]:\n",
        "    image=torch.cat((image, dataset[i][0]), dim=0)\n",
        "    label.append(dataset[i][1])\n",
        "\n",
        "label0=[]\n",
        "for i in range(0, 1000):\n",
        "  if i==0:\n",
        "    image=torch.cat((image, dataset[i+1][0]), dim=0)\n",
        "    label0.append(dataset[i+1][1])\n",
        "  elif dataset[i+1][1]!=label0[-1]:\n",
        "    image=torch.cat((image, dataset[i+1][0]), dim=0)\n",
        "    label0.append(dataset[i+1][1])\n",
        "  if len(label0)>=1000-len(label):\n",
        "    break"
      ],
      "execution_count": 0,
      "outputs": [
        {
          "output_type": "stream",
          "text": [
            "Files already downloaded and verified\n"
          ],
          "name": "stdout"
        }
      ]
    },
    {
      "cell_type": "code",
      "metadata": {
        "id": "sTJUhdKMpCd9",
        "colab_type": "code",
        "colab": {}
      },
      "source": [
        "x_test=image.numpy()\n",
        "label=np.array(label)\n",
        "label0=np.array(label0)\n",
        "y_test=np.concatenate((label, label0),axis=None)"
      ],
      "execution_count": 0,
      "outputs": []
    },
    {
      "cell_type": "code",
      "metadata": {
        "id": "zaFiX9SY8hcc",
        "colab_type": "code",
        "colab": {}
      },
      "source": [
        "import cv2\n",
        "x_test_res=[]\n",
        "for i in range(0,len(x_test)):\n",
        "  x_test[i] = cv2.subtract(1, x_test[i]) \n",
        "  x_test_res.append(cv2.resize(x_test[i], (28,28)))\n",
        "x_test_res=np.array(x_test_res)"
      ],
      "execution_count": 0,
      "outputs": []
    },
    {
      "cell_type": "code",
      "metadata": {
        "id": "dkTaS5gS-tyQ",
        "colab_type": "code",
        "colab": {}
      },
      "source": [
        "x_test_res=(x_test_res*255).astype('int')"
      ],
      "execution_count": 0,
      "outputs": []
    },
    {
      "cell_type": "code",
      "metadata": {
        "id": "XF1uPKQr81oU",
        "colab_type": "code",
        "outputId": "98984a02-0c91-4fb6-9200-832746b88dfe",
        "colab": {
          "base_uri": "https://localhost:8080/",
          "height": 34
        }
      },
      "source": [
        "x_test_res.shape"
      ],
      "execution_count": 0,
      "outputs": [
        {
          "output_type": "execute_result",
          "data": {
            "text/plain": [
              "(1000, 28, 28)"
            ]
          },
          "metadata": {
            "tags": []
          },
          "execution_count": 40
        }
      ]
    },
    {
      "cell_type": "code",
      "metadata": {
        "id": "8HP5UUxv8Dxb",
        "colab_type": "code",
        "outputId": "66f96c31-d1c2-4f2c-93d6-5d4ab99827f5",
        "colab": {
          "base_uri": "https://localhost:8080/",
          "height": 51
        }
      },
      "source": [
        "img_rows, img_cols = 28,28\n",
        "x_train = x_train.reshape(x_train.shape[0], img_rows*img_cols)\n",
        "x_test = x_test_res.reshape(x_test_res.shape[0], img_rows*img_cols)\n",
        "x_train = x_train.astype('float32')\n",
        "x_test = x_test.astype('float32')\n",
        "print(\"[mnist] x_train.shape={}, y_train.shape={}\".format(x_train.shape, y_train.shape))\n",
        "print(\"[omniglot] x_test.shape={}, y_test.shape={}\".format(x_test.shape, y_test.shape))\n",
        "\n",
        "train_loader = torch.utils.data.DataLoader(x_train, batch_size=500,\n",
        "                                          shuffle=True, num_workers=2)\n",
        "\n",
        "test_loader = torch.utils.data.DataLoader(x_test, batch_size=500,\n",
        "                                         shuffle=False, num_workers=2)"
      ],
      "execution_count": 0,
      "outputs": [
        {
          "output_type": "stream",
          "text": [
            "[mnist] x_train.shape=(60000, 784), y_train.shape=(60000,)\n",
            "[omniglot] x_test.shape=(1000, 784), y_test.shape=(1000,)\n"
          ],
          "name": "stdout"
        }
      ]
    },
    {
      "cell_type": "code",
      "metadata": {
        "id": "h8e9EC7N-N02",
        "colab_type": "code",
        "colab": {}
      },
      "source": [
        "\n",
        "encoder = lambda hid: nn.Sequential(\n",
        "                        torch.nn.Linear(784,2048, bias=True),\n",
        "                        torch.nn.BatchNorm1d(2048),\n",
        "                        torch.nn.ReLU(),\n",
        "                        torch.nn.Dropout(p=0.25),\n",
        "                       \n",
        "\n",
        "                        torch.nn.Linear(2048, hid,bias=True),\n",
        "                        ) \n",
        "\n",
        "decoder =  lambda hid: nn.Sequential( \n",
        "                        torch.nn.Linear(hid, 2048, bias=True),\n",
        "                        torch.nn.BatchNorm1d(2048),\n",
        "                        torch.nn.ReLU(),\n",
        "                        torch.nn.Dropout(p=0.25),\n",
        "                       \n",
        "\n",
        "                        torch.nn.Linear(2048, 784, bias=True),\n",
        "                        torch.nn.BatchNorm1d(784),\n",
        "                        torch.nn.ReLU(),\n",
        "                        ) \n"
      ],
      "execution_count": 0,
      "outputs": []
    },
    {
      "cell_type": "code",
      "metadata": {
        "id": "ZgwbGg09-RD8",
        "colab_type": "code",
        "colab": {}
      },
      "source": [
        "device = 'cuda:0'\n",
        "\n",
        "net = AE(encoder(1000), decoder(1000))  \n",
        "criterion = nn.MSELoss()\n",
        "optimizer = torch.optim.Adam(net.parameters(), lr=1e-3)"
      ],
      "execution_count": 0,
      "outputs": []
    },
    {
      "cell_type": "code",
      "metadata": {
        "id": "KpnLLgYe-yhp",
        "colab_type": "code",
        "outputId": "bdc8621f-c40a-450e-bbb4-9f3fd780cb90",
        "colab": {
          "base_uri": "https://localhost:8080/",
          "height": 374
        }
      },
      "source": [
        "epochs = 1000\n",
        "train(epochs, net, criterion, optimizer, train_loader, test_loader, scheduler=None)"
      ],
      "execution_count": 0,
      "outputs": [
        {
          "output_type": "stream",
          "text": [
            "Epoch 50/1000 || Loss:  Train 6469.3145 | Validation 3938.2532\n",
            "Epoch 100/1000 || Loss:  Train 5545.1328 | Validation 3499.3645\n",
            "Epoch 150/1000 || Loss:  Train 4751.9805 | Validation 3110.2646\n",
            "Epoch 200/1000 || Loss:  Train 4181.3159 | Validation 2755.4858\n",
            "Epoch 250/1000 || Loss:  Train 3497.1729 | Validation 2432.9375\n",
            "Epoch 300/1000 || Loss:  Train 2895.6318 | Validation 2138.9124\n",
            "Epoch 350/1000 || Loss:  Train 2505.7219 | Validation 1881.6561\n",
            "Epoch 400/1000 || Loss:  Train 2082.4634 | Validation 1652.8691\n",
            "Epoch 450/1000 || Loss:  Train 1735.4149 | Validation 1436.1825\n",
            "Epoch 500/1000 || Loss:  Train 1326.1376 | Validation 1241.2253\n",
            "Epoch 550/1000 || Loss:  Train 1099.5643 | Validation 1091.2189\n",
            "Epoch 600/1000 || Loss:  Train 865.6191 | Validation 944.4141\n",
            "Epoch 650/1000 || Loss:  Train 683.4636 | Validation 819.5081\n",
            "Epoch 700/1000 || Loss:  Train 509.4212 | Validation 715.0513\n",
            "Epoch 750/1000 || Loss:  Train 431.1714 | Validation 626.0457\n",
            "Epoch 800/1000 || Loss:  Train 324.0486 | Validation 553.6918\n",
            "Epoch 850/1000 || Loss:  Train 253.0290 | Validation 494.4236\n",
            "Epoch 900/1000 || Loss:  Train 223.4296 | Validation 451.9619\n",
            "Epoch 950/1000 || Loss:  Train 197.5699 | Validation 424.6686\n",
            "Epoch 1000/1000 || Loss:  Train 190.7914 | Validation 409.7039\n",
            "construction completed in 1797.362013578415s\n"
          ],
          "name": "stdout"
        }
      ]
    },
    {
      "cell_type": "code",
      "metadata": {
        "id": "Z_IHl7it-zQz",
        "colab_type": "code",
        "outputId": "600bdff9-0d25-433e-d74c-b846e7d59bee",
        "colab": {
          "base_uri": "https://localhost:8080/",
          "height": 294
        }
      },
      "source": [
        "from google.colab import files\n",
        "net.eval()\n",
        "batch_count=0\n",
        "reconstruction_time=[]\n",
        "running_loss_val = 0.0\n",
        "i = 0\n",
        "for X in test_loader:\n",
        "    X=X.to(device)\n",
        "    encoded_imgs = net.encoder(X)\n",
        "    start=time.time()\n",
        "    decoded_imgs = net.decoder(encoded_imgs)\n",
        "    end=time.time()\n",
        "    reconstruction_time.append(end-start)\n",
        "    if batch_count == 0:\n",
        "      rec = decoded_imgs\n",
        "    else:\n",
        "      rec = torch.cat((rec, decoded_imgs), dim=0)\n",
        "    batch_count += 1\n",
        "    loss_val = criterion(decoded_imgs, X)\n",
        "    running_loss_val += loss_val.item()\n",
        "\n",
        "rec = rec.cpu().detach().numpy()\n",
        "fig, ax = plt.subplots(ncols=10, nrows=2, figsize=(20, 5))\n",
        "for i in range(10):\n",
        "  ax[0,i].imshow(x_test[i].reshape(28,28).astype('int'), cmap='gray')\n",
        "  ax[0,i].get_xaxis().set_ticks([])\n",
        "  ax[0,i].get_yaxis().set_ticks([])\n",
        "  ax[1,i].imshow(rec[i].reshape(28,28).astype('int'),cmap='gray')\n",
        "  ax[1,i].get_xaxis().set_ticks([])\n",
        "  ax[1,i].get_yaxis().set_ticks([])\n",
        "ax[0,0].set_ylabel(f\"$Original$\",fontsize=18)\n",
        "ax[1,0].set_ylabel(f\"$MLP_2$\",fontsize=18)"
      ],
      "execution_count": 0,
      "outputs": [
        {
          "output_type": "execute_result",
          "data": {
            "text/plain": [
              "Text(0, 0.5, '$MLP_2$')"
            ]
          },
          "metadata": {
            "tags": []
          },
          "execution_count": 46
        },
        {
          "output_type": "display_data",
          "data": {
            "image/png": "[encoded data removed]",
            "text/plain": [
              "<Figure size 1440x360 with 20 Axes>"
            ]
          },
          "metadata": {
            "tags": []
          }
        }
      ]
    },
    {
      "cell_type": "code",
      "metadata": {
        "id": "7bgnjKvvGeN7",
        "colab_type": "code",
        "outputId": "8563bebd-8e8f-4387-c9b2-f29e80816c44",
        "colab": {
          "base_uri": "https://localhost:8080/",
          "height": 51
        }
      },
      "source": [
        "mean=np.mean(np.array(reconstruction_time))\n",
        "print(f'MSE: {running_loss_val/batch_count}')\n",
        "print(\"decode one sample in \"+str(mean)+'s')"
      ],
      "execution_count": 0,
      "outputs": [
        {
          "output_type": "stream",
          "text": [
            "MSE: 461.7225036621094\n",
            "decode one sample in 0.0003612041473388672s\n"
          ],
          "name": "stdout"
        }
      ]
    },
    {
      "cell_type": "code",
      "metadata": {
        "id": "Uk_1ilXAfHc7",
        "colab_type": "code",
        "colab": {}
      },
      "source": [
        ""
      ],
      "execution_count": 0,
      "outputs": []
    }
  ]
}